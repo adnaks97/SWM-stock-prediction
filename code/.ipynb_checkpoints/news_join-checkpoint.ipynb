{
 "cells": [
  {
   "cell_type": "code",
   "execution_count": 94,
   "metadata": {},
   "outputs": [],
   "source": [
    "import os\n",
    "import glob\n",
    "import json\n",
    "import pandas as pd\n",
    "import numpy as np\n",
    "from datetime import datetime\n",
    "import dateutil.parser\n",
    "import pytz\n",
    "import matplotlib.pyplot as plt"
   ]
  },
  {
   "cell_type": "code",
   "execution_count": 3,
   "metadata": {},
   "outputs": [],
   "source": [
    "news_path = '../Data/News/'\n",
    "stock_path = '../Data/CHARTS/'"
   ]
  },
  {
   "cell_type": "markdown",
   "metadata": {},
   "source": [
    "### Parsing news data\n",
    "Read news json files and index by time stamp. Stored in news_df DataFrame. Relative path of each json file stored in DF. Access text via json['text'] key. TimeStamp converted to Eastern."
   ]
  },
  {
   "cell_type": "code",
   "execution_count": 207,
   "metadata": {},
   "outputs": [],
   "source": [
    "times = []\n",
    "news_file_loc = []\n",
    "time_zone = pytz.timezone('US/Eastern')\n",
    "json_files = glob.glob(news_path + '*/*.json')\n",
    "for news in json_files:\n",
    "    with open(news, 'r') as f:\n",
    "        d = json.load(f)\n",
    "        iso_time = dateutil.parser.isoparse(d['published']).astimezone(time_zone)\n",
    "        #print (d['published'])\n",
    "        #print (iso_time)\n",
    "        times.append(iso_time)\n",
    "        news_file_loc.append(news)"
   ]
  },
  {
   "cell_type": "code",
   "execution_count": 206,
   "metadata": {},
   "outputs": [
    {
     "data": {
      "text/plain": [
       "'../Data/News/2018-03/news_0004712.json'"
      ]
     },
     "execution_count": 206,
     "metadata": {},
     "output_type": "execute_result"
    }
   ],
   "source": [
    "news"
   ]
  },
  {
   "cell_type": "code",
   "execution_count": 208,
   "metadata": {},
   "outputs": [],
   "source": [
    "news_df = pd.DataFrame({'timestamp': times, 'news_file_loc': news_file_loc })"
   ]
  },
  {
   "cell_type": "code",
   "execution_count": 210,
   "metadata": {},
   "outputs": [
    {
     "data": {
      "text/html": [
       "<div>\n",
       "<style scoped>\n",
       "    .dataframe tbody tr th:only-of-type {\n",
       "        vertical-align: middle;\n",
       "    }\n",
       "\n",
       "    .dataframe tbody tr th {\n",
       "        vertical-align: top;\n",
       "    }\n",
       "\n",
       "    .dataframe thead th {\n",
       "        text-align: right;\n",
       "    }\n",
       "</style>\n",
       "<table border=\"1\" class=\"dataframe\">\n",
       "  <thead>\n",
       "    <tr style=\"text-align: right;\">\n",
       "      <th></th>\n",
       "      <th>timestamp</th>\n",
       "      <th>news_file_loc</th>\n",
       "    </tr>\n",
       "  </thead>\n",
       "  <tbody>\n",
       "    <tr>\n",
       "      <th>0</th>\n",
       "      <td>2018-05-14 05:13:00-04:00</td>\n",
       "      <td>../Data/News/2018-05/news_0004667.json</td>\n",
       "    </tr>\n",
       "    <tr>\n",
       "      <th>1</th>\n",
       "      <td>2018-05-19 14:57:00-04:00</td>\n",
       "      <td>../Data/News/2018-05/news_0008095.json</td>\n",
       "    </tr>\n",
       "    <tr>\n",
       "      <th>2</th>\n",
       "      <td>2018-05-07 09:31:00-04:00</td>\n",
       "      <td>../Data/News/2018-05/news_0002293.json</td>\n",
       "    </tr>\n",
       "    <tr>\n",
       "      <th>3</th>\n",
       "      <td>2018-05-06 20:00:00-04:00</td>\n",
       "      <td>../Data/News/2018-05/news_0002860.json</td>\n",
       "    </tr>\n",
       "    <tr>\n",
       "      <th>4</th>\n",
       "      <td>2018-05-01 20:02:00-04:00</td>\n",
       "      <td>../Data/News/2018-05/news_0001169.json</td>\n",
       "    </tr>\n",
       "    <tr>\n",
       "      <th>...</th>\n",
       "      <td>...</td>\n",
       "      <td>...</td>\n",
       "    </tr>\n",
       "    <tr>\n",
       "      <th>78050</th>\n",
       "      <td>2018-03-02 09:22:00-05:00</td>\n",
       "      <td>../Data/News/2018-03/news_0001041.json</td>\n",
       "    </tr>\n",
       "    <tr>\n",
       "      <th>78051</th>\n",
       "      <td>2018-03-22 20:00:00-04:00</td>\n",
       "      <td>../Data/News/2018-03/news_0004700.json</td>\n",
       "    </tr>\n",
       "    <tr>\n",
       "      <th>78052</th>\n",
       "      <td>2018-03-03 11:43:00-05:00</td>\n",
       "      <td>../Data/News/2018-03/news_0001154.json</td>\n",
       "    </tr>\n",
       "    <tr>\n",
       "      <th>78053</th>\n",
       "      <td>2018-03-06 14:05:00-05:00</td>\n",
       "      <td>../Data/News/2018-03/news_0001066.json</td>\n",
       "    </tr>\n",
       "    <tr>\n",
       "      <th>78054</th>\n",
       "      <td>2018-03-22 16:22:00-04:00</td>\n",
       "      <td>../Data/News/2018-03/news_0004712.json</td>\n",
       "    </tr>\n",
       "  </tbody>\n",
       "</table>\n",
       "<p>78055 rows × 2 columns</p>\n",
       "</div>"
      ],
      "text/plain": [
       "                      timestamp                           news_file_loc\n",
       "0     2018-05-14 05:13:00-04:00  ../Data/News/2018-05/news_0004667.json\n",
       "1     2018-05-19 14:57:00-04:00  ../Data/News/2018-05/news_0008095.json\n",
       "2     2018-05-07 09:31:00-04:00  ../Data/News/2018-05/news_0002293.json\n",
       "3     2018-05-06 20:00:00-04:00  ../Data/News/2018-05/news_0002860.json\n",
       "4     2018-05-01 20:02:00-04:00  ../Data/News/2018-05/news_0001169.json\n",
       "...                         ...                                     ...\n",
       "78050 2018-03-02 09:22:00-05:00  ../Data/News/2018-03/news_0001041.json\n",
       "78051 2018-03-22 20:00:00-04:00  ../Data/News/2018-03/news_0004700.json\n",
       "78052 2018-03-03 11:43:00-05:00  ../Data/News/2018-03/news_0001154.json\n",
       "78053 2018-03-06 14:05:00-05:00  ../Data/News/2018-03/news_0001066.json\n",
       "78054 2018-03-22 16:22:00-04:00  ../Data/News/2018-03/news_0004712.json\n",
       "\n",
       "[78055 rows x 2 columns]"
      ]
     },
     "execution_count": 210,
     "metadata": {},
     "output_type": "execute_result"
    }
   ],
   "source": [
    "news_df"
   ]
  },
  {
   "cell_type": "markdown",
   "metadata": {},
   "source": [
    "### Reading CHARTS stock data\n",
    "Timezone converted. Example done for APPLE240, change accordingly."
   ]
  },
  {
   "cell_type": "code",
   "execution_count": 203,
   "metadata": {},
   "outputs": [],
   "source": [
    "headers = ['date', 'time', 'open', 'close', 'low', 'high', 'volume']\n",
    "df = pd.read_csv(stock_path + \"APPLE240.csv\", header=None, names = headers)\n",
    "df['timestamp'] = pd.to_datetime(df['date'] + ' ' + df['time']).dt.tz_localize(time_zone)\n",
    "del df['date'], df['time']"
   ]
  },
  {
   "cell_type": "code",
   "execution_count": 204,
   "metadata": {},
   "outputs": [
    {
     "data": {
      "text/html": [
       "<div>\n",
       "<style scoped>\n",
       "    .dataframe tbody tr th:only-of-type {\n",
       "        vertical-align: middle;\n",
       "    }\n",
       "\n",
       "    .dataframe tbody tr th {\n",
       "        vertical-align: top;\n",
       "    }\n",
       "\n",
       "    .dataframe thead th {\n",
       "        text-align: right;\n",
       "    }\n",
       "</style>\n",
       "<table border=\"1\" class=\"dataframe\">\n",
       "  <thead>\n",
       "    <tr style=\"text-align: right;\">\n",
       "      <th></th>\n",
       "      <th>open</th>\n",
       "      <th>close</th>\n",
       "      <th>low</th>\n",
       "      <th>high</th>\n",
       "      <th>volume</th>\n",
       "      <th>timestamp</th>\n",
       "    </tr>\n",
       "  </thead>\n",
       "  <tbody>\n",
       "    <tr>\n",
       "      <th>0</th>\n",
       "      <td>93.159</td>\n",
       "      <td>93.661</td>\n",
       "      <td>93.028</td>\n",
       "      <td>93.651</td>\n",
       "      <td>1287</td>\n",
       "      <td>2014-06-30 13:30:00-04:00</td>\n",
       "    </tr>\n",
       "    <tr>\n",
       "      <th>1</th>\n",
       "      <td>93.661</td>\n",
       "      <td>94.194</td>\n",
       "      <td>93.420</td>\n",
       "      <td>93.460</td>\n",
       "      <td>1512</td>\n",
       "      <td>2014-06-30 17:30:00-04:00</td>\n",
       "    </tr>\n",
       "    <tr>\n",
       "      <th>2</th>\n",
       "      <td>93.973</td>\n",
       "      <td>94.546</td>\n",
       "      <td>93.611</td>\n",
       "      <td>94.546</td>\n",
       "      <td>3405</td>\n",
       "      <td>2014-07-01 13:30:00-04:00</td>\n",
       "    </tr>\n",
       "    <tr>\n",
       "      <th>3</th>\n",
       "      <td>94.536</td>\n",
       "      <td>94.546</td>\n",
       "      <td>93.993</td>\n",
       "      <td>93.993</td>\n",
       "      <td>1382</td>\n",
       "      <td>2014-07-01 17:30:00-04:00</td>\n",
       "    </tr>\n",
       "    <tr>\n",
       "      <th>4</th>\n",
       "      <td>94.344</td>\n",
       "      <td>94.515</td>\n",
       "      <td>93.791</td>\n",
       "      <td>94.043</td>\n",
       "      <td>3249</td>\n",
       "      <td>2014-07-02 13:30:00-04:00</td>\n",
       "    </tr>\n",
       "  </tbody>\n",
       "</table>\n",
       "</div>"
      ],
      "text/plain": [
       "     open   close     low    high  volume                 timestamp\n",
       "0  93.159  93.661  93.028  93.651    1287 2014-06-30 13:30:00-04:00\n",
       "1  93.661  94.194  93.420  93.460    1512 2014-06-30 17:30:00-04:00\n",
       "2  93.973  94.546  93.611  94.546    3405 2014-07-01 13:30:00-04:00\n",
       "3  94.536  94.546  93.993  93.993    1382 2014-07-01 17:30:00-04:00\n",
       "4  94.344  94.515  93.791  94.043    3249 2014-07-02 13:30:00-04:00"
      ]
     },
     "execution_count": 204,
     "metadata": {},
     "output_type": "execute_result"
    }
   ],
   "source": [
    "df.head()"
   ]
  },
  {
   "cell_type": "code",
   "execution_count": 201,
   "metadata": {},
   "outputs": [
    {
     "data": {
      "text/plain": [
       "0      2014-06-30 13:30:00-04:00\n",
       "1      2014-06-30 17:30:00-04:00\n",
       "2      2014-07-01 13:30:00-04:00\n",
       "3      2014-07-01 17:30:00-04:00\n",
       "4      2014-07-02 13:30:00-04:00\n",
       "                  ...           \n",
       "3241   2019-01-31 13:30:00-05:00\n",
       "3242   2019-01-31 17:30:00-05:00\n",
       "3243   2019-01-31 21:30:00-05:00\n",
       "3244   2019-02-01 13:30:00-05:00\n",
       "3245   2019-02-01 17:30:00-05:00\n",
       "Name: timestamp, Length: 3246, dtype: datetime64[ns, US/Eastern]"
      ]
     },
     "execution_count": 201,
     "metadata": {},
     "output_type": "execute_result"
    }
   ],
   "source": [
    "df['timestamp']"
   ]
  },
  {
   "cell_type": "markdown",
   "metadata": {},
   "source": [
    "#### ignore\n",
    "utcmoment_naive = datetime.datetime.utcnow()\n",
    "utcmoment = utcmoment_naive.replace(tzinfo=pytz.utc)\n",
    "utcmoment"
   ]
  },
  {
   "cell_type": "markdown",
   "metadata": {},
   "source": [
    "#### TODO\n",
    "* Join news_df and stock df based on timestamp.\n",
    "* "
   ]
  },
  {
   "cell_type": "code",
   "execution_count": null,
   "metadata": {},
   "outputs": [],
   "source": []
  }
 ],
 "metadata": {
  "kernelspec": {
   "display_name": "Python 3",
   "language": "python",
   "name": "python3"
  },
  "language_info": {
   "codemirror_mode": {
    "name": "ipython",
    "version": 3
   },
   "file_extension": ".py",
   "mimetype": "text/x-python",
   "name": "python",
   "nbconvert_exporter": "python",
   "pygments_lexer": "ipython3",
   "version": "3.6.9"
  }
 },
 "nbformat": 4,
 "nbformat_minor": 4
}
